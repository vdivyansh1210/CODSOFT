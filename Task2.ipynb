{
  "nbformat": 4,
  "nbformat_minor": 0,
  "metadata": {
    "colab": {
      "provenance": []
    },
    "kernelspec": {
      "name": "python3",
      "display_name": "Python 3"
    },
    "language_info": {
      "name": "python"
    }
  },
  "cells": [
    {
      "cell_type": "code",
      "execution_count": null,
      "metadata": {
        "colab": {
          "base_uri": "https://localhost:8080/"
        },
        "id": "vw7Fo1BJlGgI",
        "outputId": "3399d802-794f-407d-b1a8-b2e8be4eb88c"
      },
      "outputs": [
        {
          "output_type": "stream",
          "name": "stdout",
          "text": [
            "Requirement already satisfied: scikit-learn in /usr/local/lib/python3.12/dist-packages (1.6.1)\n",
            "Requirement already satisfied: joblib in /usr/local/lib/python3.12/dist-packages (1.5.2)\n",
            "Requirement already satisfied: numpy>=1.19.5 in /usr/local/lib/python3.12/dist-packages (from scikit-learn) (2.0.2)\n",
            "Requirement already satisfied: scipy>=1.6.0 in /usr/local/lib/python3.12/dist-packages (from scikit-learn) (1.16.2)\n",
            "Requirement already satisfied: threadpoolctl>=3.1.0 in /usr/local/lib/python3.12/dist-packages (from scikit-learn) (3.6.0)\n"
          ]
        }
      ],
      "source": [
        "!pip install scikit-learn joblib\n",
        "\n",
        "import pandas as pd\n",
        "import numpy as np\n",
        "import joblib\n",
        "from sklearn.model_selection import train_test_split\n",
        "from sklearn.preprocessing import StandardScaler\n",
        "from sklearn.linear_model import LogisticRegression\n",
        "from sklearn.tree import DecisionTreeClassifier\n",
        "from sklearn.ensemble import RandomForestClassifier\n",
        "from sklearn.metrics import classification_report, confusion_matrix\n",
        "from sklearn.pipeline import Pipeline\n",
        "from collections import Counter\n"
      ]
    },
    {
      "cell_type": "code",
      "source": [
        "\n",
        "# Load dataset (update the filename if needed)\n",
        "df = pd.read_csv(\"fraudTest.csv\")\n",
        "print(\"Dataset shape:\", df.shape)\n",
        "print(\"Fraud ratio:\", df[\"is_fraud\"].mean())\n"
      ],
      "metadata": {
        "colab": {
          "base_uri": "https://localhost:8080/"
        },
        "id": "sE8Nc7RulYVE",
        "outputId": "082ef16d-be25-4059-d661-e6526a62449d"
      },
      "execution_count": null,
      "outputs": [
        {
          "output_type": "stream",
          "name": "stdout",
          "text": [
            "Dataset shape: (62233, 23)\n",
            "Fraud ratio: 0.004258259416377427\n"
          ]
        }
      ]
    },
    {
      "cell_type": "code",
      "source": [
        "# Drop useless columns\n",
        "drop_cols = [\"trans_num\",\"cc_num\",\"first\",\"last\",\"street\",\"job\",\"dob\",\"zip\",\"Unnamed: 0\"]\n",
        "df = df.drop(columns=[c for c in drop_cols if c in df.columns])\n",
        "\n",
        "# Convert datetime\n",
        "df[\"trans_date_trans_time\"] = pd.to_datetime(df[\"trans_date_trans_time\"])\n",
        "\n",
        "# Create time features\n",
        "df[\"hour\"] = df[\"trans_date_trans_time\"].dt.hour\n",
        "df[\"dayofweek\"] = df[\"trans_date_trans_time\"].dt.dayofweek\n",
        "df[\"is_weekend\"] = (df[\"dayofweek\"] >= 5).astype(int)\n",
        "\n",
        "# Frequency encode merchant & category\n",
        "for col in [\"merchant\", \"category\"]:\n",
        "    freq = df[col].value_counts()\n",
        "    df[col + \"_freq\"] = df[col].map(freq)\n",
        "df = df.drop(columns=[\"merchant\", \"category\", \"trans_date_trans_time\"])\n",
        "\n",
        "# Encode gender\n",
        "df[\"gender\"] = df[\"gender\"].map({\"M\": 0, \"F\": 1})\n",
        "\n",
        "# Fill missing values\n",
        "df = df.fillna(df.median(numeric_only=True))\n"
      ],
      "metadata": {
        "id": "Ozy6GpbgoW_C"
      },
      "execution_count": null,
      "outputs": []
    },
    {
      "cell_type": "code",
      "source": [
        "frauds = df[df[\"is_fraud\"] == 1]\n",
        "non_frauds = df[df[\"is_fraud\"] == 0] # Sample all non-frauds\n",
        "sampled_df = pd.concat([frauds, non_frauds])\n",
        "\n",
        "X = sampled_df.drop(columns=[\"is_fraud\"])\n",
        "y = sampled_df[\"is_fraud\"]\n",
        "\n",
        "# Apply one-hot encoding to 'city' and 'state'\n",
        "X = pd.get_dummies(X, columns=[\"city\", \"state\"], drop_first=True)\n",
        "\n",
        "print(\"Sampled data shape:\", sampled_df.shape)\n",
        "print(\"Class distribution:\", Counter(y))\n",
        "\n",
        "X_train, X_test, y_train, y_test = train_test_split(\n",
        "    X, y, test_size=0.3, stratify=y, random_state=42\n",
        ")"
      ],
      "metadata": {
        "colab": {
          "base_uri": "https://localhost:8080/"
        },
        "id": "BWLFRy7toj2T",
        "outputId": "96aab08f-b872-47c0-c5d1-0347db0a027d"
      },
      "execution_count": null,
      "outputs": [
        {
          "output_type": "stream",
          "name": "stdout",
          "text": [
            "Sampled data shape: (62233, 16)\n",
            "Class distribution: Counter({0.0: 61968, 1.0: 265})\n"
          ]
        }
      ]
    },
    {
      "cell_type": "code",
      "source": [
        "models = {\n",
        "    \"Logistic Regression\": LogisticRegression(max_iter=1000, class_weight=\"balanced\"),\n",
        "    \"Decision Tree\": DecisionTreeClassifier(max_depth=10, class_weight=\"balanced\", random_state=42),\n",
        "    \"Random Forest\": RandomForestClassifier(n_estimators=100, max_depth=10, class_weight=\"balanced\", random_state=42)\n",
        "}\n",
        "\n",
        "best_model = None\n",
        "best_f1 = 0\n",
        "\n",
        "for name, model in models.items():\n",
        "    pipe = Pipeline([(\"scaler\", StandardScaler()), (\"clf\", model)])\n",
        "    pipe.fit(X_train, y_train)\n",
        "    y_pred = pipe.predict(X_test)\n",
        "\n",
        "    print(\"\\n\", \"=\"*40)\n",
        "    print(f\"{name} Report:\")\n",
        "    print(classification_report(y_test, y_pred, digits=3))\n",
        "    print(\"Confusion Matrix:\\n\", confusion_matrix(y_test, y_pred))\n",
        "\n",
        "    report = classification_report(y_test, y_pred, output_dict=True)\n",
        "    # Check if the '1' key exists in the report before accessing it\n",
        "    f1_fraud = report.get(\"1\", {}).get(\"f1-score\", 0)\n",
        "    if f1_fraud > best_f1:\n",
        "        best_f1 = f1_fraud\n",
        "        best_model = pipe"
      ],
      "metadata": {
        "colab": {
          "base_uri": "https://localhost:8080/"
        },
        "id": "uUf_Y48ZopoD",
        "outputId": "3890c1c4-18e9-4a77-e4f1-ac77aba92aa9"
      },
      "execution_count": null,
      "outputs": [
        {
          "output_type": "stream",
          "name": "stdout",
          "text": [
            "\n",
            " ========================================\n",
            "Logistic Regression Report:\n",
            "              precision    recall  f1-score   support\n",
            "\n",
            "         0.0      1.000     0.979     0.989     18590\n",
            "         1.0      0.168     0.975     0.286        80\n",
            "\n",
            "    accuracy                          0.979     18670\n",
            "   macro avg      0.584     0.977     0.638     18670\n",
            "weighted avg      0.996     0.979     0.986     18670\n",
            "\n",
            "Confusion Matrix:\n",
            " [[18203   387]\n",
            " [    2    78]]\n",
            "\n",
            " ========================================\n",
            "Decision Tree Report:\n",
            "              precision    recall  f1-score   support\n",
            "\n",
            "         0.0      0.999     0.979     0.989     18590\n",
            "         1.0      0.147     0.850     0.250        80\n",
            "\n",
            "    accuracy                          0.978     18670\n",
            "   macro avg      0.573     0.914     0.620     18670\n",
            "weighted avg      0.996     0.978     0.986     18670\n",
            "\n",
            "Confusion Matrix:\n",
            " [[18195   395]\n",
            " [   12    68]]\n",
            "\n",
            " ========================================\n",
            "Random Forest Report:\n",
            "              precision    recall  f1-score   support\n",
            "\n",
            "         0.0      0.999     0.996     0.997     18590\n",
            "         1.0      0.447     0.787     0.570        80\n",
            "\n",
            "    accuracy                          0.995     18670\n",
            "   macro avg      0.723     0.892     0.784     18670\n",
            "weighted avg      0.997     0.995     0.996     18670\n",
            "\n",
            "Confusion Matrix:\n",
            " [[18512    78]\n",
            " [   17    63]]\n"
          ]
        }
      ]
    },
    {
      "cell_type": "code",
      "source": [
        "import joblib\n",
        "from google.colab import files\n",
        "\n",
        "joblib.dump(best_model, \"best_fraud_model.joblib\")\n",
        "print(f\"✅ Best model saved as best_fraud_model.joblib (F1 for fraud: {best_f1:.3f})\")\n",
        "\n",
        "# Download to your local machine\n",
        "files.download(\"best_fraud_model.joblib\")"
      ],
      "metadata": {
        "colab": {
          "base_uri": "https://localhost:8080/",
          "height": 34
        },
        "id": "S4YD-l3uq1Jb",
        "outputId": "fd6098b1-b0f5-4f38-a8a8-38cf636e21fc"
      },
      "execution_count": null,
      "outputs": [
        {
          "output_type": "stream",
          "name": "stdout",
          "text": [
            "✅ Best model saved as best_fraud_model.joblib (F1 for fraud: 0.000)\n"
          ]
        },
        {
          "output_type": "display_data",
          "data": {
            "text/plain": [
              "<IPython.core.display.Javascript object>"
            ],
            "application/javascript": [
              "\n",
              "    async function download(id, filename, size) {\n",
              "      if (!google.colab.kernel.accessAllowed) {\n",
              "        return;\n",
              "      }\n",
              "      const div = document.createElement('div');\n",
              "      const label = document.createElement('label');\n",
              "      label.textContent = `Downloading \"${filename}\": `;\n",
              "      div.appendChild(label);\n",
              "      const progress = document.createElement('progress');\n",
              "      progress.max = size;\n",
              "      div.appendChild(progress);\n",
              "      document.body.appendChild(div);\n",
              "\n",
              "      const buffers = [];\n",
              "      let downloaded = 0;\n",
              "\n",
              "      const channel = await google.colab.kernel.comms.open(id);\n",
              "      // Send a message to notify the kernel that we're ready.\n",
              "      channel.send({})\n",
              "\n",
              "      for await (const message of channel.messages) {\n",
              "        // Send a message to notify the kernel that we're ready.\n",
              "        channel.send({})\n",
              "        if (message.buffers) {\n",
              "          for (const buffer of message.buffers) {\n",
              "            buffers.push(buffer);\n",
              "            downloaded += buffer.byteLength;\n",
              "            progress.value = downloaded;\n",
              "          }\n",
              "        }\n",
              "      }\n",
              "      const blob = new Blob(buffers, {type: 'application/binary'});\n",
              "      const a = document.createElement('a');\n",
              "      a.href = window.URL.createObjectURL(blob);\n",
              "      a.download = filename;\n",
              "      div.appendChild(a);\n",
              "      a.click();\n",
              "      div.remove();\n",
              "    }\n",
              "  "
            ]
          },
          "metadata": {}
        },
        {
          "output_type": "display_data",
          "data": {
            "text/plain": [
              "<IPython.core.display.Javascript object>"
            ],
            "application/javascript": [
              "download(\"download_ad466837-d1a8-40ca-b7b3-b3ec309cb7cb\", \"best_fraud_model.joblib\", 4)"
            ]
          },
          "metadata": {}
        }
      ]
    }
  ]
}